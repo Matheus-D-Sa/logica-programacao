{
  "nbformat": 4,
  "nbformat_minor": 0,
  "metadata": {
    "colab": {
      "provenance": []
    },
    "kernelspec": {
      "name": "python3",
      "display_name": "Python 3"
    },
    "language_info": {
      "name": "python"
    }
  },
  "cells": [
    {
      "cell_type": "markdown",
      "source": [
        "# Calculadora"
      ],
      "metadata": {
        "id": "WQoYrfglDw1G"
      }
    },
    {
      "cell_type": "code",
      "source": [
        "print('Bem vindo a sua caculadora virtual !!' )\n",
        "resposta1 = input('Você deseja somar, subtrair, dividir ou multiplicar ?''\\n')\n",
        "print('\\n')\n",
        "\n",
        "num1 = input('Digite o primeiro número:')\n",
        "num2 = input('Agora o segundo número:')\n",
        "\n",
        "convert1 = int(num1)\n",
        "convert2 = int(num2)\n",
        "\n",
        "soma = convert1 + convert2\n",
        "sub = convert1 - convert2\n",
        "divi = convert1 / convert2\n",
        "mult = convert1 * convert2\n",
        "\n",
        "if resposta1 == 'somar':\n",
        "  print('Resultado:', soma)\n",
        "  print('\\n')\n",
        "  resposta2 = input('Deseja repetir a operação, sim ou não?''\\n')\n",
        "  while resposta2 == 'sim':\n",
        "    soma += convert2\n",
        "    print('Resultado:', soma)\n",
        "    print('\\n')\n",
        "    resposta2 = 'não'\n",
        "    resposta2 = input('Deseja repetir a operação, sim ou não?''\\n')\n",
        "\n",
        "  else:\n",
        "    print('Então acabamos por aqui, obrigado ≧◠‿◠≦✌')\n",
        "\n",
        "\n",
        "elif resposta1 == 'subtrair':\n",
        "  print('Resultado:', sub)\n",
        "  print('\\n')\n",
        "  resposta2 = input('Deseja repetir a operação, sim ou não?''\\n')\n",
        "  while resposta2 == 'sim':\n",
        "    sub -= convert2\n",
        "    print('Resultado:', sub)\n",
        "    print('\\n')\n",
        "    resposta2 = 'não'\n",
        "    resposta2 = input('Deseja repetir a operação, sim ou não?''\\n')\n",
        "\n",
        "  else:\n",
        "    print('Então acabamos por aqui, obrigado ≧◠‿◠≦✌')\n",
        "\n",
        "elif resposta1 == 'dividir':\n",
        "  print('Resultado:', divi)\n",
        "  print('\\n')\n",
        "  resposta2 = input('Deseja repetir a operação, sim ou não?''\\n')\n",
        "  while resposta2 == 'sim':\n",
        "    divi /= convert2\n",
        "    print('Resultado:', divi)\n",
        "    print('\\n')\n",
        "    resposta2 = 'não'\n",
        "    resposta2 = input('Deseja repetir a operação, sim ou não?''\\n')\n",
        "\n",
        "  else:\n",
        "    print('Então acabamos por aqui, obrigado ≧◠‿◠≦✌')\n",
        "\n",
        "elif resposta1 == 'multiplicar':\n",
        "  print('Resultado:', mult)\n",
        "  print('\\n')\n",
        "  resposta2 = input('Deseja repetir a operação, sim ou não?''\\n')\n",
        "  while resposta2 == 'sim':\n",
        "    mult *= convert2\n",
        "    print('Resultado:', mult)\n",
        "    print('\\n')\n",
        "    resposta2 = 'não'\n",
        "    resposta2 = input('Deseja repetir a operação, sim ou não?''\\n')\n",
        "\n",
        "  else:\n",
        "    print('Então acabamos por aqui, obrigado ≧◠‿◠≦✌')\n",
        "\n",
        "\n",
        "\n",
        "\n",
        "\n"
      ],
      "metadata": {
        "colab": {
          "base_uri": "https://localhost:8080/"
        },
        "id": "SnEV21NCD2we",
        "outputId": "3d82b837-bc71-46b6-ed4d-02c1176152a2"
      },
      "execution_count": null,
      "outputs": [
        {
          "output_type": "stream",
          "name": "stdout",
          "text": [
            "Bem vindo a sua caculadora virtual !!\n",
            "Você deseja somar, subtrair, dividir ou multiplicar ?\n",
            "dividir\n",
            "\n",
            "\n",
            "Digite o primeiro número:10\n",
            "Agora o segundo número:2\n",
            "Resultado: 5.0\n",
            "\n",
            "\n",
            "Deseja repetir a operação, sim ou não?\n",
            "sim\n",
            "Resultado: 2.5\n",
            "\n",
            "\n",
            "Deseja repetir a operação, sim ou não?\n",
            "sim\n",
            "Resultado: 1.25\n",
            "\n",
            "\n"
          ]
        }
      ]
    }
  ]
}