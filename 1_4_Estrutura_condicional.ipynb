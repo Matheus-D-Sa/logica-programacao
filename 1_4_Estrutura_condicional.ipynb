{
  "nbformat": 4,
  "nbformat_minor": 0,
  "metadata": {
    "colab": {
      "provenance": []
    },
    "kernelspec": {
      "name": "python3",
      "display_name": "Python 3"
    },
    "language_info": {
      "name": "python"
    }
  },
  "cells": [
    {
      "cell_type": "markdown",
      "source": [
        "# Condicional"
      ],
      "metadata": {
        "id": "nfZtYEguNj_a"
      }
    },
    {
      "cell_type": "code",
      "execution_count": null,
      "metadata": {
        "colab": {
          "base_uri": "https://localhost:8080/"
        },
        "id": "0PpNdohhNgP4",
        "outputId": "f05fd42f-5b1e-41e4-d411-a362df8ae9e9"
      },
      "outputs": [
        {
          "output_type": "stream",
          "name": "stdout",
          "text": [
            "Verdade\n"
          ]
        }
      ],
      "source": [
        " # If\n",
        " if 5 < 10:\n",
        "  print('Verdade')"
      ]
    },
    {
      "cell_type": "code",
      "source": [
        "# If/else\n",
        "num1 = 10\n",
        "num2 = 15\n",
        "if num1 > num2:\n",
        "  print('O num1 é o maior número')\n",
        "else:\n",
        "  print('O num2 é o maior número')\n",
        "\n"
      ],
      "metadata": {
        "colab": {
          "base_uri": "https://localhost:8080/"
        },
        "id": "HLwcT6wIN-7_",
        "outputId": "7d7e24f0-0e08-4274-ac18-39f29334128a"
      },
      "execution_count": null,
      "outputs": [
        {
          "output_type": "stream",
          "name": "stdout",
          "text": [
            "O num2 é o maior número\n"
          ]
        }
      ]
    },
    {
      "cell_type": "code",
      "source": [
        "# If / Elif / Else\n",
        "num1 = 10\n",
        "num2 = 10\n",
        "if num1 > num2:\n",
        "  print('O num1 é o maior número')\n",
        "elif num1 < num2:\n",
        "  print('O num2 é o maior número')\n",
        "else:\n",
        "  print('Os dois são iguais')"
      ],
      "metadata": {
        "colab": {
          "base_uri": "https://localhost:8080/"
        },
        "id": "j-4LI8LcOq0e",
        "outputId": "4a35af76-692d-48f1-c749-fd0843529359"
      },
      "execution_count": null,
      "outputs": [
        {
          "output_type": "stream",
          "name": "stdout",
          "text": [
            "Os dois são iguais\n"
          ]
        }
      ]
    },
    {
      "cell_type": "markdown",
      "source": [
        "# Condicional com Operadores lógicos"
      ],
      "metadata": {
        "id": "n0wXbcHgPbBi"
      }
    },
    {
      "cell_type": "code",
      "source": [
        "num1 = 10\n",
        "num2 = 5\n",
        "num3 = 2\n",
        "if (num1 > num2) and (num1 > num3):\n",
        "  print('O num1 é o maior número')\n",
        "else:\n",
        "  print('O num1 não é o maior número')"
      ],
      "metadata": {
        "colab": {
          "base_uri": "https://localhost:8080/"
        },
        "id": "hEZbx2oUPhKC",
        "outputId": "aca1cb42-4030-4bf3-c929-b18f1fd95b05"
      },
      "execution_count": null,
      "outputs": [
        {
          "output_type": "stream",
          "name": "stdout",
          "text": [
            "O num1 não é o maior número\n"
          ]
        }
      ]
    },
    {
      "cell_type": "markdown",
      "source": [
        "# Exemplo de código executável"
      ],
      "metadata": {
        "id": "Y3GGpPYbdlCb"
      }
    },
    {
      "cell_type": "code",
      "source": [
        "  # Solicita o nome do usuário e o exibe\n",
        "nome_usuario = input(\"Por favor, insira seu nome: \")\n",
        "print(f\"Olá, {nome_usuario}! Bem-vindo ao nosso sistema.\")\n",
        "\n",
        "# Solicita a idade do usuário e converte para inteiro\n",
        "idade_usuario = int(input(\"Por favor, insira sua idade: \"))\n",
        "\n",
        "# Verifica se o usuário é maior de idade\n",
        "if idade_usuario >= 18:\n",
        "    print(\"Você é maior de idade.\")\n",
        "else:\n",
        "    print(\"Você é menor de idade.\")"
      ],
      "metadata": {
        "colab": {
          "base_uri": "https://localhost:8080/"
        },
        "id": "IjuxLA6Mdn9C",
        "outputId": "c4b80f26-3653-4153-bab5-3e1941491543"
      },
      "execution_count": null,
      "outputs": [
        {
          "output_type": "stream",
          "name": "stdout",
          "text": [
            "Por favor, insira seu nome: Matheus\n",
            "Olá, Matheus! Bem-vindo ao nosso sistema.\n",
            "Por favor, insira sua idade: 25\n",
            "Você é maior de idade.\n"
          ]
        }
      ]
    }
  ]
}